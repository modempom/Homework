{
  "cells": [
    {
      "cell_type": "markdown",
      "source": [
        "# Programming Flow\n",
        "\n",
        "- The program flows from the beginning to the end\n",
        "\n",
        "- We have to think as a flow chart.\n",
        "\n",
        "  ![download (1)](./assets/download(1).png)"
      ],
      "metadata": {
        "collapsed": false,
        "id": "KY2Q5ct-fbVl"
      }
    },
    {
      "cell_type": "markdown",
      "source": [
        "## Sequential Flow\n",
        "\n",
        "The program is call from one line to the other line\n",
        "\n",
        "Before writing the code\n",
        "\n",
        "What is the output of\n",
        "\n",
        "```python\n",
        "x = 2\n",
        "y = x + 2\n",
        "z = y ** 2\n",
        "\n",
        "print (z)\n",
        "```"
      ],
      "metadata": {
        "collapsed": false,
        "id": "yB3_3E8FfbVp"
      }
    },
    {
      "cell_type": "markdown",
      "source": [
        "### Task\n",
        "\n",
        "Now write the code to see the output"
      ],
      "metadata": {
        "collapsed": false,
        "id": "qfR0bjSkfbVq"
      }
    },
    {
      "cell_type": "code",
      "execution_count": 1,
      "outputs": [
        {
          "output_type": "stream",
          "name": "stdout",
          "text": [
            "16\n"
          ]
        }
      ],
      "source": [
        "x = 2\n",
        "y = x + 2\n",
        "z = y ** 2\n",
        "\n",
        "print (z)"
      ],
      "metadata": {
        "colab": {
          "base_uri": "https://localhost:8080/"
        },
        "id": "mZYot2fzfbVq",
        "outputId": "3eb01875-5800-4a08-e77f-d4cf0b8dc612"
      }
    },
    {
      "cell_type": "markdown",
      "source": [
        "## Boolean Expression\n",
        "\n",
        "- The flow of the code could be only sequenctial.\n",
        "- The decision is also required"
      ],
      "metadata": {
        "collapsed": false,
        "id": "2ORhRFq5fbVq"
      }
    },
    {
      "cell_type": "markdown",
      "source": [
        "**To make a decision** We need to make the choice\n",
        "\n",
        "> Boolean data type\n",
        "\n",
        "a data type that has one of two possible values\n",
        "\n",
        "- True\n",
        "- False\n",
        "\n",
        "Try\n",
        "\n",
        "```python\n",
        "True\n",
        "```"
      ],
      "metadata": {
        "collapsed": false,
        "id": "6ZwLgHDYfbVr"
      }
    },
    {
      "cell_type": "code",
      "execution_count": 2,
      "outputs": [
        {
          "output_type": "execute_result",
          "data": {
            "text/plain": [
              "True"
            ]
          },
          "metadata": {},
          "execution_count": 2
        }
      ],
      "source": [
        "True"
      ],
      "metadata": {
        "colab": {
          "base_uri": "https://localhost:8080/"
        },
        "id": "0ghARpoTfbVr",
        "outputId": "7bf27991-e30f-4aeb-fc01-d8933584b634"
      }
    },
    {
      "cell_type": "markdown",
      "source": [
        "```python\n",
        "False\n",
        "```"
      ],
      "metadata": {
        "collapsed": false,
        "id": "LyeV8PL0fbVr"
      }
    },
    {
      "cell_type": "code",
      "execution_count": 3,
      "outputs": [
        {
          "output_type": "execute_result",
          "data": {
            "text/plain": [
              "False"
            ]
          },
          "metadata": {},
          "execution_count": 3
        }
      ],
      "source": [
        "False"
      ],
      "metadata": {
        "colab": {
          "base_uri": "https://localhost:8080/"
        },
        "id": "2PQfIHN0fbVr",
        "outputId": "902b13e9-3432-4266-b2ee-3dbeca5da8db"
      }
    },
    {
      "cell_type": "markdown",
      "source": [
        "## Boolean Operations\n",
        "\n",
        "The value is calculated by the comparison\n",
        "\n",
        "Using the mathematics\n",
        "\n",
        "What is the result of\n",
        "\n",
        "```python\n",
        "1 > 2\n",
        "```\n",
        "\n",
        "Then try to code"
      ],
      "metadata": {
        "collapsed": false,
        "id": "o1BsJ1yafbVr"
      }
    },
    {
      "cell_type": "code",
      "execution_count": 4,
      "outputs": [
        {
          "output_type": "execute_result",
          "data": {
            "text/plain": [
              "False"
            ]
          },
          "metadata": {},
          "execution_count": 4
        }
      ],
      "source": [
        "1 > 2"
      ],
      "metadata": {
        "colab": {
          "base_uri": "https://localhost:8080/"
        },
        "id": "I2PwVqjofbVr",
        "outputId": "82c64c67-e5bd-444a-eaf9-a844216af174"
      }
    },
    {
      "cell_type": "markdown",
      "source": [
        "With the variable, the value which is kept in the variable is used to calculate\n",
        "\n",
        "What is the result of\n",
        "\n",
        "```\n",
        "x = 1\n",
        "y = 2\n",
        "y < x\n",
        "```\n",
        "\n",
        "Then try to code"
      ],
      "metadata": {
        "collapsed": false,
        "id": "5xKhRJtKfbVr"
      }
    },
    {
      "cell_type": "code",
      "execution_count": 5,
      "outputs": [
        {
          "output_type": "execute_result",
          "data": {
            "text/plain": [
              "False"
            ]
          },
          "metadata": {},
          "execution_count": 5
        }
      ],
      "source": [
        "x = 1\n",
        "y = 2\n",
        "y < x"
      ],
      "metadata": {
        "colab": {
          "base_uri": "https://localhost:8080/"
        },
        "id": "ZeYB7ZsLfbVs",
        "outputId": "84d643c5-9113-4020-e40c-4f624058c8e1"
      }
    },
    {
      "cell_type": "markdown",
      "source": [
        "### Relational Operation\n",
        "\n",
        "The mathematic operation\n",
        "\n",
        "compare the values\n",
        "\n",
        "What are these result data types?\n",
        "\n",
        "<table>\n",
        "<thead>\n",
        "<tr>\n",
        "<th style=\"text-align:center\">Operator</th>\n",
        "<th style=\"text-align:center\">Meaning</th>\n",
        "<th style=\"text-align:center\">Example</th>\n",
        "<th style=\"text-align:center\">Result</th>\n",
        "</tr>\n",
        "</thead>\n",
        "<tbody>\n",
        "<tr>\n",
        "<td style=\"text-align:center\">==</td>\n",
        "<td style=\"text-align:left\">equals</td>\n",
        "<td style=\"text-align:left\">1 + 1 == 2</td>\n",
        "<td style=\"text-align:center\"><input type=\"text\"></td>\n",
        "</tr>\n",
        "<tr>\n",
        "<td style=\"text-align:center\">!=</td>\n",
        "<td style=\"text-align:left\">does not equal</td>\n",
        "<td style=\"text-align:left\">3.2 != 2.5</td>\n",
        "<td style=\"text-align:center\"><input type=\"text\"></td>\n",
        "</tr>\n",
        "<tr>\n",
        "<td style=\"text-align:center\">&lt;</td>\n",
        "<td style=\"text-align:left\">less than</td>\n",
        "<td style=\"text-align:left\">10 &lt; 5</td>\n",
        "<td style=\"text-align:center\"><input type=\"text\"></td>\n",
        "</tr>\n",
        "<tr>\n",
        "<td style=\"text-align:center\">&gt;</td>\n",
        "<td style=\"text-align:left\">greater than</td>\n",
        "<td style=\"text-align:left\">10 &gt; 5</td>\n",
        "<td style=\"text-align:center\"><input type=\"text\"></td>\n",
        "</tr>\n",
        "<tr>\n",
        "<td style=\"text-align:center\">&lt;=</td>\n",
        "<td style=\"text-align:left\">less than or equal to</td>\n",
        "<td style=\"text-align:left\">126 &lt;= 100</td>\n",
        "<td style=\"text-align:center\"><input type=\"text\"></td>\n",
        "</tr>\n",
        "<tr>\n",
        "<td style=\"text-align:center\">&gt;=</td>\n",
        "<td style=\"text-align:left\">Greater than or equal to</td>\n",
        "<td style=\"text-align:left\">5.0 &gt;= 5.0</td>\n",
        "<td style=\"text-align:center\"><input type=\"text\"></td>\n",
        "</tr>\n",
        "</tbody>\n",
        "</table>\n",
        "\n",
        "**Then** try to write the code to see the result!!"
      ],
      "metadata": {
        "collapsed": false,
        "id": "KGvCSAZXfbVs"
      }
    },
    {
      "cell_type": "code",
      "execution_count": 7,
      "outputs": [
        {
          "output_type": "execute_result",
          "data": {
            "text/plain": [
              "True"
            ]
          },
          "metadata": {},
          "execution_count": 7
        }
      ],
      "source": [
        "3.2 != 2.5"
      ],
      "metadata": {
        "colab": {
          "base_uri": "https://localhost:8080/"
        },
        "id": "M0e2EJk9fbVs",
        "outputId": "b191cedd-576a-4e3f-a9f4-26c10c9320c2"
      }
    },
    {
      "cell_type": "markdown",
      "source": [
        "## Selective Flows\n",
        "\n",
        "Selective flow is to select which code will be executed\n",
        "\n",
        "- The boolean expression is required.\n",
        "- Help to select the **block** of code\n",
        "\n",
        "### if\n",
        "\n",
        "If will check that if the expression is true, then the code will be selected\n",
        "\n",
        "![download (3)](./assets/download(3).png)"
      ],
      "metadata": {
        "collapsed": false,
        "id": "tARSy_6yfbVs"
      }
    },
    {
      "cell_type": "markdown",
      "source": [
        "Try to write this code and run.\n",
        "\n",
        "```python\n",
        "gpa = 3.4\n",
        "if gpa > 2.0:\n",
        "  print ('Your application is accepted.')\n",
        "```\n",
        "\n",
        "then try to change your GPA  to 1.5 and see the result"
      ],
      "metadata": {
        "collapsed": false,
        "id": "dzxX3yn4fbVs"
      }
    },
    {
      "cell_type": "code",
      "execution_count": 8,
      "outputs": [],
      "source": [
        "gpa = 1.5\n",
        "if gpa > 2.0:\n",
        "  print ('Your application is accepted.')"
      ],
      "metadata": {
        "id": "ycXEZKfafbVs"
      }
    },
    {
      "cell_type": "markdown",
      "source": [
        "### If-Else\n",
        "\n",
        "if/else: Execute one block of states if a certain condition is `True`\n",
        "\n",
        "and the second block statements if it is `False`\n",
        "\n",
        "Syntax:\n",
        "\n",
        "> if **condition**:\n",
        ">\n",
        "> ​\t**statements**\n",
        ">\n",
        "> else:\n",
        ">\n",
        "> ​\t**statements**\n",
        "\n",
        "Flow example as follows:\n",
        "\n",
        "![download (4)](./assets/download(4).png)\n",
        "\n",
        "Try to type the code\n",
        "\n",
        "```python\n",
        "gpa = 1.4\n",
        "if gpa > 2.0:\n",
        "  print ('Welcome to CMU University')\n",
        "else:\n",
        "  print ('Your application is denied')\n",
        "```"
      ],
      "metadata": {
        "collapsed": false,
        "id": "WtTdTnJ7fbVs"
      }
    },
    {
      "cell_type": "code",
      "execution_count": 9,
      "outputs": [
        {
          "output_type": "stream",
          "name": "stdout",
          "text": [
            "Your application is denied\n"
          ]
        }
      ],
      "source": [
        "gpa = 1.4\n",
        "if gpa > 2.0:\n",
        "  print ('Welcome to CMU University')\n",
        "else:\n",
        "  print ('Your application is denied')"
      ],
      "metadata": {
        "colab": {
          "base_uri": "https://localhost:8080/"
        },
        "id": "cMpdcL_kfbVs",
        "outputId": "97a38716-a7f4-47c8-df71-c19f5a89e316"
      }
    },
    {
      "cell_type": "markdown",
      "source": [
        "### Indentation\n",
        "\n",
        "- Group of statements\n",
        "  - Define by putting in the same indentation\n",
        "  - A set of blocks of statements that will execute under the same condition\n",
        "- With indentation\n",
        "  - The same scope executed under the previous indentation\n",
        "\n",
        "```python\n",
        "x = int(input(\"enter x:\"))\n",
        "if x > 1.5:\n",
        "  x = x *x\n",
        "  print(x)\n",
        "else:\n",
        "  x = x-x\n",
        "  print (x)\n",
        "```"
      ],
      "metadata": {
        "collapsed": false,
        "id": "HfBKWXoFfbVt"
      }
    },
    {
      "cell_type": "code",
      "execution_count": 10,
      "outputs": [
        {
          "output_type": "stream",
          "name": "stdout",
          "text": [
            "enter x:10\n",
            "100\n"
          ]
        }
      ],
      "source": [
        "x = int(input(\"enter x:\"))\n",
        "if x > 1.5:\n",
        "  x = x *x\n",
        "  print(x)\n",
        "else:\n",
        "  x = x-x\n",
        "  print (x)"
      ],
      "metadata": {
        "colab": {
          "base_uri": "https://localhost:8080/"
        },
        "id": "Q214dY1gfbVt",
        "outputId": "61dff8d9-edf7-442e-99c1-583dcd548065"
      }
    },
    {
      "cell_type": "markdown",
      "source": [
        "### If-Else-If\n",
        "\n",
        "Multiple conditions can be chained with elif (\"else if\")\n",
        "\n",
        "> if **condition**:\n",
        ">\n",
        "> ​\t**statements**\n",
        ">\n",
        "> elif **condition**:\n",
        ">\n",
        "> ​\t**statements**\n",
        ">\n",
        "> else:\n",
        ">\n",
        "> ​\t**statements**\n",
        "\n",
        "![download (5)](./assets/download(5).png)\n",
        "\n",
        "####"
      ],
      "metadata": {
        "collapsed": false,
        "id": "l7ijvSwgfbVt"
      }
    },
    {
      "cell_type": "code",
      "execution_count": null,
      "outputs": [],
      "source": [],
      "metadata": {
        "id": "KQT7O9eefbVt"
      }
    },
    {
      "cell_type": "markdown",
      "source": [
        "#### Task\n",
        "\n",
        "Write a Python program that asks for the gpa and show the output regarding to the input gpa\n",
        "\n",
        "if gpa >= 3 , \"Accepted\"\n",
        "\n",
        "if 2.5 <=gpa < 3 , \"Condition Accepted\"\n",
        "\n",
        "if gpa<2.5, \"Rejected\""
      ],
      "metadata": {
        "collapsed": false,
        "id": "BNLFktvOfbVt"
      }
    },
    {
      "cell_type": "code",
      "execution_count": 11,
      "outputs": [
        {
          "output_type": "stream",
          "name": "stdout",
          "text": [
            "Enter your GPA: 3.5\n",
            "Accepted\n"
          ]
        }
      ],
      "source": [
        "gpa = float(input(\"Enter your GPA: \"))\n",
        "\n",
        "\n",
        "if gpa >= 3:\n",
        "  print(\"Accepted\")\n",
        "elif gpa >= 2.5:\n",
        "  print(\"Condition Accepted\")\n",
        "else:\n",
        "  print(\"Rejected\")"
      ],
      "metadata": {
        "colab": {
          "base_uri": "https://localhost:8080/"
        },
        "id": "H7GO3yrOfbVt",
        "outputId": "d47844fb-758e-41da-e00c-850614ec009b"
      }
    },
    {
      "cell_type": "markdown",
      "source": [
        "## Repetition\n",
        "\n",
        "Sometimes we need to do the same behavior until we get our expected result.\n",
        "\n",
        "That is the repetition\n",
        "\n",
        "The repetition can be done regarding the **times** or to **achieve** something"
      ],
      "metadata": {
        "collapsed": false,
        "id": "KN1hMHNsfbVt"
      }
    },
    {
      "cell_type": "markdown",
      "source": [
        "### Counting Loop\n",
        "\n",
        "for loop: Repeats a set of statements over a group of values.\n",
        "\n",
        "Syntax:\n",
        "\n",
        "for **variableName** in **groupOfValues**:\n",
        "\n",
        "​\t**statements**\n",
        "\n",
        "- We indent the statements to be repeated with tabs or spaces.\n",
        "- **variableName** gives a name to each value so that you can refer to it\n",
        "\n",
        "You can try this given code\n",
        "\n",
        "```python\n",
        "for x in range(1, 6):\n",
        "    print (x, \"squared is\", x * x)\n",
        "```"
      ],
      "metadata": {
        "collapsed": false,
        "id": "G_u1_lg3fbVt"
      }
    },
    {
      "cell_type": "code",
      "execution_count": 12,
      "outputs": [
        {
          "output_type": "stream",
          "name": "stdout",
          "text": [
            "1 squared is 1\n",
            "2 squared is 4\n",
            "3 squared is 9\n",
            "4 squared is 16\n",
            "5 squared is 25\n"
          ]
        }
      ],
      "source": [
        "for x in range(1, 6):\n",
        "    print (x, \"squared is\", x * x)"
      ],
      "metadata": {
        "colab": {
          "base_uri": "https://localhost:8080/"
        },
        "id": "DA2W1HVvfbVt",
        "outputId": "958ae5cd-3010-4fb4-ffc4-c2c08d9af60a"
      }
    },
    {
      "cell_type": "markdown",
      "source": [
        "**What is range??**\n",
        "\n",
        "It is a function specifies a range of integers\n",
        "\n",
        "`range(start, stop)` - the integers between `start` (inclusive) and stop (exclusive)\n",
        "\n",
        "try\n",
        "\n",
        "```python\n",
        "x = range(1,6)\n",
        "print(*x)\n",
        "```"
      ],
      "metadata": {
        "collapsed": false,
        "id": "1xACJyV-fbVt"
      }
    },
    {
      "cell_type": "code",
      "execution_count": 13,
      "outputs": [
        {
          "output_type": "stream",
          "name": "stdout",
          "text": [
            "1 2 3 4 5\n"
          ]
        }
      ],
      "source": [
        "x = range(1,6)\n",
        "print(*x)"
      ],
      "metadata": {
        "colab": {
          "base_uri": "https://localhost:8080/"
        },
        "id": "EU_jSBzIfbVt",
        "outputId": "042ddac6-a9c0-478f-b24f-e439e2f835ae"
      }
    },
    {
      "cell_type": "markdown",
      "source": [
        "It can also accept a third value specifying the change between the value\n",
        "\n",
        "```\n",
        "range(start, stop, step)` - the integers between `start` (inclusive) and `stop` (exclusive) by `step\n",
        "```"
      ],
      "metadata": {
        "collapsed": false,
        "id": "0BuNdkYdfbVt"
      }
    },
    {
      "cell_type": "markdown",
      "source": [
        "Try\n",
        "\n",
        "```python\n",
        "y = range(5,0,1)\n",
        "print (*y)\n",
        "```"
      ],
      "metadata": {
        "collapsed": false,
        "id": "GBgVa9CqfbVu"
      }
    },
    {
      "cell_type": "code",
      "execution_count": 14,
      "outputs": [
        {
          "output_type": "stream",
          "name": "stdout",
          "text": [
            "\n"
          ]
        }
      ],
      "source": [
        "y = range(5,0,1)\n",
        "print (*y)"
      ],
      "metadata": {
        "colab": {
          "base_uri": "https://localhost:8080/"
        },
        "id": "CWEBRQZvfbVu",
        "outputId": "71e3a860-9b73-46e8-c664-d0f19337b53b"
      }
    },
    {
      "cell_type": "markdown",
      "source": [
        "### Cumulative loop\n",
        "\n",
        "Some loops incrementally compute a value that is initialized outside the loop. This is sometimes called a *cumulative sum*.\n",
        "\n",
        "What will be the output of this code\n",
        "\n",
        "```python\n",
        "sum = 0\n",
        "for i in range(1, 5):\n",
        "    sum = sum + (i * i)\n",
        "print (\"sum of first 5 squares is\", sum)\n",
        "```\n",
        "\n",
        "Then try the code"
      ],
      "metadata": {
        "collapsed": false,
        "id": "jnSW8WT0fbVu"
      }
    },
    {
      "cell_type": "code",
      "execution_count": 15,
      "outputs": [
        {
          "output_type": "stream",
          "name": "stdout",
          "text": [
            "sum of first 5 squares is 30\n"
          ]
        }
      ],
      "source": [
        "sum = 0\n",
        "for i in range(1, 5):\n",
        "    sum = sum + (i * i)\n",
        "print (\"sum of first 5 squares is\", sum)"
      ],
      "metadata": {
        "colab": {
          "base_uri": "https://localhost:8080/"
        },
        "id": "JJ1AwRc5fbVu",
        "outputId": "ca29086c-5938-464a-b3fb-c3f3feae553d"
      }
    },
    {
      "cell_type": "markdown",
      "source": [
        "### Condition Loop\n",
        "\n",
        "The loop runs until the condition is false\n",
        "\n",
        "**while** loop:\n",
        "\n",
        "- Executes a group of statements as long as a condition is True.\n",
        "  - good for *indefinite* loops (repeat an **unknown** number of times)\n",
        "\n",
        "Syntax:\n",
        "\n",
        "> while  **condition**:\n",
        ">\n",
        "> ​\t**statements**\n",
        "\n",
        "Try to calculate this by hand\n",
        "\n",
        "```python\n",
        "number = 1\n",
        "while number < 2:\n",
        "  print(number)\n",
        "  number = number *2\n",
        "```\n",
        "\n",
        "Then code"
      ],
      "metadata": {
        "collapsed": false,
        "id": "2TV4kUjsfbVu"
      }
    },
    {
      "cell_type": "code",
      "execution_count": 16,
      "outputs": [
        {
          "output_type": "stream",
          "name": "stdout",
          "text": [
            "1\n"
          ]
        }
      ],
      "source": [
        "number = 1\n",
        "while number < 2:\n",
        "  print(number)\n",
        "  number = number *2"
      ],
      "metadata": {
        "colab": {
          "base_uri": "https://localhost:8080/"
        },
        "id": "rWhD47ZyfbVu",
        "outputId": "2ec1764b-4dbe-4ab6-cb1a-5d6aecb502f0"
      }
    },
    {
      "cell_type": "markdown",
      "source": [
        "### Task\n",
        "\n",
        "create an application which receive the number, and it will print the number the user input.\n",
        "\n",
        "The process will run again and again until -1 is put."
      ],
      "metadata": {
        "collapsed": false,
        "id": "deI-iuBxfbVu"
      }
    },
    {
      "cell_type": "code",
      "execution_count": null,
      "outputs": [],
      "source": [
        "number = 1\n",
        "while number < 2:\n",
        "  print(number)\n",
        "  number = number *2"
      ],
      "metadata": {
        "id": "_ECmK7umfbV3"
      }
    },
    {
      "cell_type": "markdown",
      "source": [
        "# String Data Type\n",
        "\n",
        "A sequence of text characters in a program\n",
        "\n",
        "Strings start and end with quotation mark \" or apostrophe ' characters.\n",
        "\n",
        "> \"hello\"\n",
        ">\n",
        "> \"This is a string\"\n",
        ">\n",
        "> \"This, too, is a string. It can be very long\"\n",
        "\n",
        "Then try to create strings\n",
        "\n",
        "```python\n",
        "x = \"hello\"\n",
        "x\n",
        "```"
      ],
      "metadata": {
        "collapsed": false,
        "id": "CHEI6uNhfbV3"
      }
    },
    {
      "cell_type": "code",
      "execution_count": 18,
      "outputs": [
        {
          "output_type": "execute_result",
          "data": {
            "text/plain": [
              "'hello'"
            ],
            "application/vnd.google.colaboratory.intrinsic+json": {
              "type": "string"
            }
          },
          "metadata": {},
          "execution_count": 18
        }
      ],
      "source": [
        "x = \"hello\"\n",
        "x"
      ],
      "metadata": {
        "colab": {
          "base_uri": "https://localhost:8080/",
          "height": 35
        },
        "id": "kEIA7a_dfbV3",
        "outputId": "a8f81d14-59a5-43f2-efa6-7938667ba611"
      }
    },
    {
      "cell_type": "markdown",
      "source": [
        "```python\n",
        "print(x)\n",
        "```"
      ],
      "metadata": {
        "collapsed": false,
        "id": "xj7gXpQ5fbV3"
      }
    },
    {
      "cell_type": "code",
      "execution_count": 19,
      "outputs": [
        {
          "output_type": "stream",
          "name": "stdout",
          "text": [
            "hello\n"
          ]
        }
      ],
      "source": [
        "print(x)"
      ],
      "metadata": {
        "colab": {
          "base_uri": "https://localhost:8080/"
        },
        "id": "RM1JAWJ8fbV4",
        "outputId": "9fef6ab5-f7ea-4168-aef4-8b37c415d011"
      }
    },
    {
      "cell_type": "markdown",
      "source": [
        "Try to create string\n",
        "\n",
        "```python\n",
        "\"hello 'world'\"\n",
        "```"
      ],
      "metadata": {
        "collapsed": false,
        "id": "nJotZprDfbV4"
      }
    },
    {
      "cell_type": "code",
      "execution_count": 20,
      "outputs": [
        {
          "output_type": "execute_result",
          "data": {
            "text/plain": [
              "\"hello 'world'\""
            ],
            "application/vnd.google.colaboratory.intrinsic+json": {
              "type": "string"
            }
          },
          "metadata": {},
          "execution_count": 20
        }
      ],
      "source": [
        "\"hello 'world'\""
      ],
      "metadata": {
        "colab": {
          "base_uri": "https://localhost:8080/",
          "height": 35
        },
        "id": "Dr5RaRPofbV4",
        "outputId": "2c41f590-1d09-44ee-8dd3-ab6e8b3b99b4"
      }
    },
    {
      "cell_type": "markdown",
      "source": [
        "> A string may not span across multiple lines or contain the same quote character\n",
        "\n",
        "\"This is not\n",
        "\n",
        "a legal String.\"\n",
        "\n",
        "\"This is not a \"legal\" String either.\""
      ],
      "metadata": {
        "collapsed": false,
        "id": "TwSVjrsdfbV4"
      }
    },
    {
      "cell_type": "markdown",
      "source": [
        "## Escape character\n",
        "\n",
        "Some escape characters\n",
        "\n",
        "- the character which we could see directly\n",
        "\n",
        "- `\\t` tab character\n",
        "- `\\n` newline character\n",
        "- `\\\"` quotation mark character\n",
        "- `\\\\` backslash character\n",
        "\n",
        "What do you think it will be?\n",
        "\n",
        "```\n",
        "Hello\\tthere\\nHow are you?\n",
        "```\n",
        "\n",
        "then try\n",
        "\n"
      ],
      "metadata": {
        "collapsed": false,
        "id": "OovRLeyXfbV4"
      }
    },
    {
      "cell_type": "code",
      "execution_count": 23,
      "outputs": [
        {
          "output_type": "stream",
          "name": "stdout",
          "text": [
            "Object `you` not found.\n"
          ]
        }
      ],
      "source": [
        "Hello\\tthere\\nHow are you?"
      ],
      "metadata": {
        "colab": {
          "base_uri": "https://localhost:8080/"
        },
        "id": "Ha4a0_bnfbV4",
        "outputId": "a6e7c315-0e14-41cd-9c5a-8251d38e824d"
      }
    },
    {
      "cell_type": "markdown",
      "source": [
        "How about creating a character which will show\n",
        "\n",
        "' This is the\n",
        "\n",
        "test of the escape character, which will show '\"\n",
        "\n",
        "and the \\t '"
      ],
      "metadata": {
        "collapsed": false,
        "id": "t1Q0PGnLfbV4"
      }
    },
    {
      "cell_type": "code",
      "execution_count": null,
      "outputs": [],
      "source": [],
      "metadata": {
        "id": "GI6FCNtYfbV4"
      }
    },
    {
      "cell_type": "markdown",
      "source": [
        "However, we can use `'''` to wrap around the text which contain an escape character. try\n",
        "\n",
        "```python\n",
        "ex = '''\n",
        "This is\n",
        "a book\n",
        "name y\n",
        "'''\n",
        "print(ex)\n",
        "```\n",
        "\n",
        "check the content in side\n",
        "\n",
        "```python\n",
        "ex\n",
        "```"
      ],
      "metadata": {
        "collapsed": false,
        "id": "0UYVKgrKfbV4"
      }
    },
    {
      "cell_type": "code",
      "execution_count": 24,
      "outputs": [
        {
          "output_type": "stream",
          "name": "stdout",
          "text": [
            "\n",
            "This is\n",
            "a book\n",
            "name y\n",
            "\n"
          ]
        }
      ],
      "source": [
        "ex = '''\n",
        "This is\n",
        "a book\n",
        "name y\n",
        "'''\n",
        "print(ex)"
      ],
      "metadata": {
        "colab": {
          "base_uri": "https://localhost:8080/"
        },
        "id": "AaLVaZPafbV4",
        "outputId": "d05730fd-9b0c-483f-e748-bac592817441"
      }
    },
    {
      "cell_type": "markdown",
      "source": [
        "The string is the sequence of character\n",
        "\n",
        "aka **Array** of character\n",
        "\n",
        "for example:\n",
        "\n",
        "```python\n",
        "name = \"P. Diddy\"\n",
        "```"
      ],
      "metadata": {
        "collapsed": false,
        "id": "SUQuhviUfbV4"
      }
    },
    {
      "cell_type": "code",
      "execution_count": 25,
      "outputs": [],
      "source": [
        "name = \"P. Diddy\""
      ],
      "metadata": {
        "id": "krX0xKE4fbV4"
      }
    },
    {
      "cell_type": "markdown",
      "source": [],
      "metadata": {
        "collapsed": false,
        "id": "je2rUk9qfbV4"
      }
    },
    {
      "cell_type": "markdown",
      "source": [
        "| index     | 0 | 1 | 2 | 3 | 4 | 5 | 6 | 7 |\n",
        "|-----------|---|---|---|---|---|---|---|---|\n",
        "| character | P | . |   | D | i | d | d | y |\n",
        "\n",
        "> To access the individual character of a string\n",
        ">\n",
        "> ​\t\t**variableName** [**index**]\n",
        "\n",
        "try\n",
        "\n",
        "```python\n",
        "print(name, \"starts with\", name[0])\n",
        "```"
      ],
      "metadata": {
        "collapsed": false,
        "id": "3e4eg-HgfbV4"
      }
    },
    {
      "cell_type": "code",
      "execution_count": 26,
      "outputs": [
        {
          "output_type": "stream",
          "name": "stdout",
          "text": [
            "P. Diddy starts with P\n"
          ]
        }
      ],
      "source": [
        "print(name, \"starts with\", name[0])"
      ],
      "metadata": {
        "ExecuteTime": {
          "end_time": "2023-07-05T23:04:54.406848Z",
          "start_time": "2023-07-05T23:04:54.398483Z"
        },
        "colab": {
          "base_uri": "https://localhost:8080/"
        },
        "id": "f94zIC5ufbV5",
        "outputId": "3a83edc9-145f-4b86-bf65-71435de7ada3"
      }
    },
    {
      "cell_type": "markdown",
      "source": [
        "What if I want to show `i`,\n",
        "\n",
        "write the code to show i in the name"
      ],
      "metadata": {
        "collapsed": false,
        "id": "ldt-97W7fbV5"
      }
    },
    {
      "cell_type": "code",
      "execution_count": null,
      "outputs": [],
      "source": [],
      "metadata": {
        "id": "hR0khUrnfbV5"
      }
    },
    {
      "cell_type": "markdown",
      "source": [
        "## String properties\n",
        "\n",
        "There are functions and string functions that can get some data or manipulate the string"
      ],
      "metadata": {
        "collapsed": false,
        "id": "laiNLD6qfbV5"
      }
    },
    {
      "cell_type": "markdown",
      "source": [
        "### General function\n",
        "\n",
        "The function which has been created (mainly by the Python creator, or other programmers) which returns something\n",
        "\n",
        "`len` function\n",
        "\n",
        "search for the description?"
      ],
      "metadata": {
        "collapsed": false,
        "id": "zfPXhTaIfbV5"
      }
    },
    {
      "cell_type": "code",
      "execution_count": null,
      "outputs": [],
      "source": [],
      "metadata": {
        "id": "7FnJz-1MfbV5"
      }
    },
    {
      "cell_type": "markdown",
      "source": [
        "### Object functions\n",
        "\n",
        "Some python variables are objects.\n",
        "\n",
        "The object contains it's group of data\n",
        "\n",
        "and also its own function (in this case, mostly call as methods)\n",
        "\n",
        "> the format of usage is\n",
        "\n",
        "\n",
        "> variable_name.function_name(input variable if any)\n",
        "\n",
        "check\n",
        "\n",
        "String function\n",
        "\n",
        "- `lower()`\n",
        "- `upper()`\n",
        "\n",
        "Try the code\n",
        "\n",
        "```python\n",
        "name = \"Pita KK\"\n",
        "length = len(name)\n",
        "big_name = name.upper()\n",
        "print(big_name,\"has\",length,\"characters\")\n",
        "```"
      ],
      "metadata": {
        "collapsed": false,
        "id": "o-Q814IhfbV5"
      }
    },
    {
      "cell_type": "code",
      "execution_count": 27,
      "outputs": [
        {
          "output_type": "stream",
          "name": "stdout",
          "text": [
            "PITA KK has 7 characters\n"
          ]
        }
      ],
      "source": [
        "name = \"Pita KK\"\n",
        "length = len(name)\n",
        "big_name = name.upper()\n",
        "print(big_name,\"has\",length,\"characters\")"
      ],
      "metadata": {
        "colab": {
          "base_uri": "https://localhost:8080/"
        },
        "id": "4fpLqzK7fbV5",
        "outputId": "f8030525-2a9a-4ddb-e1ca-bb0ecdd944d4"
      }
    },
    {
      "cell_type": "markdown",
      "source": [
        "## Text Processing\n",
        "\n",
        "- Examining, editing, and formatting text.\n",
        "- Often uses loops that examine the characters of a string one by one\n",
        "\n",
        "> A for loop can examine each character in a string in sequence.\n",
        "\n",
        "```python\n",
        "for c in \"booyah\":\n",
        "  print (c)\n",
        "```"
      ],
      "metadata": {
        "collapsed": false,
        "id": "D9W4o_ykfbV5"
      }
    },
    {
      "cell_type": "code",
      "execution_count": 28,
      "outputs": [
        {
          "output_type": "stream",
          "name": "stdout",
          "text": [
            "b\n",
            "o\n",
            "o\n",
            "y\n",
            "a\n",
            "h\n"
          ]
        }
      ],
      "source": [
        "for c in \"booyah\":\n",
        "  print (c)"
      ],
      "metadata": {
        "colab": {
          "base_uri": "https://localhost:8080/"
        },
        "id": "yfIkhQtOfbV5",
        "outputId": "c322dcc6-d003-4582-ecdd-da97f7fbde5f"
      }
    },
    {
      "cell_type": "markdown",
      "source": [
        "## ASCII Table\n",
        "\n",
        "all data is mapped to a number\n",
        "\n",
        "- The computer does not save the character as the character\n",
        "- It saves as a number\n",
        "- Encode the data\n",
        "\n",
        "Then decode the number to the value"
      ],
      "metadata": {
        "collapsed": false,
        "id": "HbSeZD50fbV6"
      }
    },
    {
      "cell_type": "markdown",
      "source": [
        "One of the most famous character encoders is ASCII\n",
        "\n",
        "> American Standard Code for Information Interchange\n",
        "\n",
        "- first published on 1963\n",
        "- the latest version is 1986"
      ],
      "metadata": {
        "collapsed": false,
        "id": "NKsaNeeRfbV6"
      }
    },
    {
      "cell_type": "markdown",
      "source": [
        "![File:ASCII-Table-wide.svg](./assets/800px-ASCII-Table-wide.svg.png)"
      ],
      "metadata": {
        "collapsed": false,
        "id": "vpaXiDk6fbV6"
      }
    },
    {
      "cell_type": "markdown",
      "source": [
        "## String and number\n",
        "\n",
        "Search for\n",
        "\n",
        "> function `ord(text)`\n",
        ">\n",
        "> Example: `ord(\"a\") is 97, ord(\"b\") is 98, ...`\n",
        "\n",
        "- Characters map to numbers using standardized mappings such as ASCII and Unicode\n",
        "\n",
        "Search for\n",
        "\n",
        "> function `chr(number)`\n",
        "\n",
        "```python\n",
        "chr(99) is \"c\"\n",
        "```\n",
        "###"
      ],
      "metadata": {
        "collapsed": false,
        "id": "upE55yCWfbV6"
      }
    },
    {
      "cell_type": "markdown",
      "source": [
        "### Task\n",
        "\n",
        "Write a program to print A to Z\n",
        "\n",
        "try to minimize your code as much as possible"
      ],
      "metadata": {
        "collapsed": false,
        "id": "GX5QqxtffbV6"
      }
    },
    {
      "cell_type": "code",
      "execution_count": 29,
      "outputs": [
        {
          "output_type": "stream",
          "name": "stderr",
          "text": [
            "<>:1: SyntaxWarning: \"is\" with a literal. Did you mean \"==\"?\n",
            "<>:1: SyntaxWarning: \"is\" with a literal. Did you mean \"==\"?\n",
            "<ipython-input-29-f50d60cf78ee>:1: SyntaxWarning: \"is\" with a literal. Did you mean \"==\"?\n",
            "  chr(99) is \"c\"\n"
          ]
        },
        {
          "output_type": "execute_result",
          "data": {
            "text/plain": [
              "True"
            ]
          },
          "metadata": {},
          "execution_count": 29
        }
      ],
      "source": [
        "chr(99) is \"c\""
      ],
      "metadata": {
        "colab": {
          "base_uri": "https://localhost:8080/"
        },
        "id": "xyYrYqzrfbV6",
        "outputId": "368e55af-fecf-4285-9d6c-c4d101e28997"
      }
    },
    {
      "cell_type": "markdown",
      "source": [
        "# Function\n",
        "\n",
        "Putting a code into a set of call\n",
        "\n",
        "- may required parameter\n",
        "- return only one values\n",
        "  - can be a single value\n",
        "  - object values\n",
        "\n",
        "```python\n",
        "print(\"h\",\"y\",\"z\")\n",
        "```"
      ],
      "metadata": {
        "collapsed": false,
        "id": "rLpOfZLcfbV6"
      }
    },
    {
      "cell_type": "code",
      "execution_count": 30,
      "outputs": [
        {
          "output_type": "stream",
          "name": "stdout",
          "text": [
            "h y z\n"
          ]
        }
      ],
      "source": [
        "print(\"h\",\"y\",\"z\")"
      ],
      "metadata": {
        "colab": {
          "base_uri": "https://localhost:8080/"
        },
        "id": "quNL_lrafbV6",
        "outputId": "59811b1e-8d5f-4e4a-a79f-042ad1d37311"
      }
    },
    {
      "cell_type": "markdown",
      "source": [
        "## Encapsulating code with functions\n",
        "\n",
        "Functions are useful for gathering similar pieces of code in one place. Consider the following mathematical function.\n",
        "$$\n",
        "x \\rightarrow f(x):= 2x + 1\n",
        "$$\n",
        "The Python equivalent is as follows:\n",
        "\n",
        "```python\n",
        "def f(x):\n",
        "  return 2*x + 1\n",
        "```"
      ],
      "metadata": {
        "collapsed": false,
        "id": "AWLL5MWHfbV6"
      }
    },
    {
      "cell_type": "code",
      "execution_count": 31,
      "outputs": [],
      "source": [
        "def f(x):\n",
        "  return 2*x + 1"
      ],
      "metadata": {
        "id": "q2OAByLAfbV7"
      }
    },
    {
      "cell_type": "markdown",
      "source": [
        "```python\n",
        "f(2)\n",
        "f(1)\n",
        "```"
      ],
      "metadata": {
        "collapsed": false,
        "id": "fuzvQL4YfbV7"
      }
    },
    {
      "cell_type": "code",
      "execution_count": 32,
      "outputs": [
        {
          "output_type": "execute_result",
          "data": {
            "text/plain": [
              "3"
            ]
          },
          "metadata": {},
          "execution_count": 32
        }
      ],
      "source": [
        "f(2)\n"
      ],
      "metadata": {
        "colab": {
          "base_uri": "https://localhost:8080/"
        },
        "id": "f6xQ_FWifbV7",
        "outputId": "382e70d6-fc15-4e3e-e30d-8faf992612f6"
      }
    },
    {
      "cell_type": "code",
      "source": [
        "f(1)"
      ],
      "metadata": {
        "colab": {
          "base_uri": "https://localhost:8080/"
        },
        "id": "uDVf8DuUokxZ",
        "outputId": "3ec95be3-46d1-4fda-ad4d-bdd4c386e1a1"
      },
      "execution_count": 33,
      "outputs": [
        {
          "output_type": "execute_result",
          "data": {
            "text/plain": [
              "3"
            ]
          },
          "metadata": {},
          "execution_count": 33
        }
      ]
    },
    {
      "cell_type": "markdown",
      "source": [
        "```python\n",
        "x = f(11)\n",
        "```"
      ],
      "metadata": {
        "collapsed": false,
        "id": "0MudtTvHfbV7"
      }
    },
    {
      "cell_type": "code",
      "execution_count": 34,
      "outputs": [],
      "source": [
        "x = f(11)"
      ],
      "metadata": {
        "id": "6MPhZ9X-fbV7"
      }
    },
    {
      "cell_type": "markdown",
      "source": [
        "```python\n",
        "f = 5\n",
        "f(5)\n",
        "```"
      ],
      "metadata": {
        "collapsed": false,
        "id": "ts6ew63VfbV7"
      }
    },
    {
      "cell_type": "code",
      "execution_count": 35,
      "outputs": [
        {
          "output_type": "error",
          "ename": "TypeError",
          "evalue": "ignored",
          "traceback": [
            "\u001b[0;31m---------------------------------------------------------------------------\u001b[0m",
            "\u001b[0;31mTypeError\u001b[0m                                 Traceback (most recent call last)",
            "\u001b[0;32m<ipython-input-35-534075edd988>\u001b[0m in \u001b[0;36m<cell line: 2>\u001b[0;34m()\u001b[0m\n\u001b[1;32m      1\u001b[0m \u001b[0mf\u001b[0m \u001b[0;34m=\u001b[0m \u001b[0;36m5\u001b[0m\u001b[0;34m\u001b[0m\u001b[0;34m\u001b[0m\u001b[0m\n\u001b[0;32m----> 2\u001b[0;31m \u001b[0mf\u001b[0m\u001b[0;34m(\u001b[0m\u001b[0;36m5\u001b[0m\u001b[0;34m)\u001b[0m\u001b[0;34m\u001b[0m\u001b[0;34m\u001b[0m\u001b[0m\n\u001b[0m",
            "\u001b[0;31mTypeError\u001b[0m: 'int' object is not callable"
          ]
        }
      ],
      "source": [
        "f = 5\n",
        "f(5)"
      ],
      "metadata": {
        "colab": {
          "base_uri": "https://localhost:8080/",
          "height": 194
        },
        "id": "8RR_qr58fbV7",
        "outputId": "13dc61c1-5e3e-46de-9d18-9c09cd4e2785"
      }
    },
    {
      "cell_type": "markdown",
      "source": [
        "```python\n",
        "input = input('text')\n",
        "print(input)\n",
        "```\n"
      ],
      "metadata": {
        "collapsed": false,
        "id": "a6rDFO2BfbV7"
      }
    },
    {
      "cell_type": "code",
      "execution_count": null,
      "outputs": [],
      "source": [
        "input = input('text')\n",
        "print(input)"
      ],
      "metadata": {
        "id": "-v_ktRUwfbV7"
      }
    },
    {
      "cell_type": "markdown",
      "source": [
        "- The keyword `def` tells Python we are defining a function.\n",
        "- `f` is the name of the function.\n",
        "- `x` is the argument, or input of the function.\n",
        "- What is after `return` is called the output to the function.\n",
        "\n",
        "![download (6)](./assets/download(6).png)"
      ],
      "metadata": {
        "collapsed": false,
        "id": "HBCCh28FfbV7"
      }
    },
    {
      "cell_type": "markdown",
      "source": [
        "### Task\n",
        "\n",
        "Write the function for\n",
        "$$\n",
        "f(x) = x^2 + 0.25x -5\n",
        "$$\n",
        "Then write the code to receive 2.3 as an input parameter and show the result"
      ],
      "metadata": {
        "collapsed": false,
        "id": "b1dBKTSXfbV7"
      }
    },
    {
      "cell_type": "code",
      "execution_count": null,
      "outputs": [],
      "source": [
        "def f(x):\n",
        "\n",
        "  return x**2 + 0.25 * x - 5\n",
        "\n",
        "\n",
        "# Get the input value.\n",
        "x = 2.3\n",
        "\n",
        "# Calculate the value of f(x).\n",
        "y = f(x)\n",
        "\n",
        "# Print the result.\n",
        "print(y)"
      ],
      "metadata": {
        "id": "xdAklA86fbV7"
      }
    },
    {
      "cell_type": "markdown",
      "source": [
        "### Task 2\n",
        "\n",
        "define the price with Vat function.\n",
        "\n",
        "The function recieve the price of the item. Then return the price which has add the Vat with in.\n",
        "\n",
        "then after creating the function, write the code snippet to receive the name, and price of the item. then print out the name of the item and the price with vat"
      ],
      "metadata": {
        "collapsed": false,
        "id": "LNGJ4zIKfbV7"
      }
    },
    {
      "cell_type": "code",
      "execution_count": null,
      "outputs": [],
      "source": [
        "def price_with_vat(price):\n",
        "  \"\"\"\n",
        "  Calculates the price of an item with VAT included.\n",
        "\n",
        "  Args:\n",
        "    price: A float representing the price of the item without VAT.\n",
        "\n",
        "  Returns:\n",
        "    A float representing the price of the item with VAT included.\n",
        "  \"\"\"\n",
        "\n",
        "  vat_rate = 0.2\n",
        "  price_with_vat = price + (price * vat_rate)\n",
        "  return price_with_vat\n",
        "\n",
        "\n",
        "# Get the name and price of the item.\n",
        "item_name = input(\"Enter the name of the item: \")\n",
        "item_price = float(input(\"Enter the price of the item: \"))\n",
        "\n",
        "# Calculate the price of the item with VAT included.\n",
        "price_with_vat = price_with_vat(item_price)\n",
        "\n",
        "# Print out the name of the item and the price with VAT.\n",
        "print(f\"{item_name} price with VAT: {price_with_vat}\")"
      ],
      "metadata": {
        "id": "6iH7xk6wfbV8"
      }
    }
  ],
  "metadata": {
    "kernelspec": {
      "display_name": "Python 3",
      "language": "python",
      "name": "python3"
    },
    "language_info": {
      "codemirror_mode": {
        "name": "ipython",
        "version": 2
      },
      "file_extension": ".py",
      "mimetype": "text/x-python",
      "name": "python",
      "nbconvert_exporter": "python",
      "pygments_lexer": "ipython2",
      "version": "2.7.6"
    },
    "colab": {
      "provenance": []
    }
  },
  "nbformat": 4,
  "nbformat_minor": 0
}