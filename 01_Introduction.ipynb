{
  "cells": [
    {
      "cell_type": "markdown",
      "metadata": {
        "ExecuteTime": {
          "end_time": "2023-06-30T16:08:43.551069800Z",
          "start_time": "2023-06-30T16:08:43.542864900Z"
        },
        "id": "lgC05aICbRKD"
      },
      "source": [
        "# Introduction to Python\n",
        "\n",
        "## Python Example\n",
        "\n",
        "Try to type the following source code\n",
        "\n",
        "Start providing dependency in the console\n",
        "\n",
        "\n",
        "```python\n",
        "pip install opencv-python==4.7.0.72\n",
        "```\n",
        "\n",
        "```python\n",
        "pip install -q mediapipe==0.10.1\n",
        "```\n",
        "\n"
      ]
    },
    {
      "cell_type": "markdown",
      "metadata": {
        "ExecuteTime": {
          "end_time": "2023-06-30T16:01:30.474442200Z",
          "start_time": "2023-06-30T16:01:30.467494100Z"
        },
        "id": "v0Xy0MCkbRKF"
      },
      "source": [
        "Create a new Python file with any name, then type the following source code.\n",
        "\n",
        "```python\n",
        "# STEP 1: Import libraries and set the initial value for a variable.\n",
        "import numpy as np\n",
        "import mediapipe as mp\n",
        "import cv2\n",
        "import os\n",
        "print(os.getcwd())\n",
        "\n",
        "MARGIN = 10  # pixels\n",
        "ROW_SIZE = 10  # pixels\n",
        "FONT_SIZE = 1\n",
        "FONT_THICKNESS = 1\n",
        "TEXT_COLOR = (255, 0, 0)  # red\n",
        "\n",
        "def visualize(\n",
        "    image,\n",
        "    detection_result\n",
        ") -> np.ndarray:\n",
        "  \"\"\"Draws bounding boxes on the input image and return it.\n",
        "  Args:\n",
        "    image: The input RGB image.\n",
        "    detection_result: The list of all \"Detection\" entities to be visualize.\n",
        "  Returns:\n",
        "    Image with bounding boxes.\n",
        "  \"\"\"\n",
        "  for detection in detection_result.detections:\n",
        "    # Draw bounding_box\n",
        "    bbox = detection.bounding_box\n",
        "    start_point = bbox.origin_x, bbox.origin_y\n",
        "    end_point = bbox.origin_x + bbox.width, bbox.origin_y + bbox.height\n",
        "    cv2.rectangle(image, start_point, end_point, TEXT_COLOR, 3)\n",
        "\n",
        "    # Draw label and score\n",
        "    category = detection.categories[0]\n",
        "    category_name = category.category_name\n",
        "    probability = round(category.score, 2)\n",
        "    result_text = category_name + ' (' + str(probability) + ')'\n",
        "    text_location = (MARGIN + bbox.origin_x,\n",
        "                     MARGIN + ROW_SIZE + bbox.origin_y)\n",
        "    cv2.putText(image, result_text, text_location, cv2.FONT_HERSHEY_PLAIN,\n",
        "                FONT_SIZE, TEXT_COLOR, FONT_THICKNESS)\n",
        "\n",
        "  return image\n",
        "\n",
        "import numpy as np\n",
        "from mediapipe.tasks import python\n",
        "from mediapipe.tasks.python import vision\n",
        "\n",
        "# STEP 2: Create an ObjectDetector object.\n",
        "base_options = python.BaseOptions(model_asset_path='efficientdet.tflite')\n",
        "options = vision.ObjectDetectorOptions(base_options=base_options,\n",
        "                                       score_threshold=0.5)\n",
        "detector = vision.ObjectDetector.create_from_options(options)\n",
        "\n",
        "# STEP 3: Load the input image.\n",
        "webcam = cv2.VideoCapture(0)\n",
        "image = webcam.read()\n",
        "mp_hands = mp.solutions.hands\n",
        "hands = mp_hands.Hands()\n",
        "mp_draw = mp.solutions.drawing_utils\n",
        "while True:\n",
        "    success, image = webcam.read()\n",
        "    image_rgb = cv2.cvtColor(image,cv2.COLOR_BGR2RGB)\n",
        "    image = mp.Image(image_format=mp.ImageFormat.SRGB, data=image_rgb)\n",
        "\n",
        "    # STEP 4: Detect objects in the input image.\n",
        "    detection_result = detector.detect(image)\n",
        "\n",
        "    # STEP 5: Process the detection result. In this case, visualize it.\n",
        "    image_copy = np.copy(image.numpy_view())\n",
        "    annotated_image = visualize(image_copy, detection_result)\n",
        "    rgb_annotated_image = cv2.cvtColor(annotated_image, cv2.COLOR_BGR2RGB)\n",
        "\n",
        "    cv2.imshow(\"Image\",rgb_annotated_image)\n",
        "    k =cv2.waitKey(1)\n",
        "    if k == 27:\n",
        "        break\n",
        "\n",
        "cv2.destroyAllWindows()\n",
        "```\n",
        "\n"
      ]
    },
    {
      "cell_type": "markdown",
      "metadata": {
        "ExecuteTime": {
          "end_time": "2023-06-30T16:06:15.426784Z",
          "start_time": "2023-06-30T16:06:11.234550900Z"
        },
        "id": "0HxvKSPybRKG"
      },
      "source": [
        "Copy the <a href=\"./assets/efficientdet_metadata.tflite\" download>metadata file</a> and place it in the exact location with your file.\n",
        "\n",
        "Then click run the file, then we can try the result.\n",
        "\n",
        "![image-20230630065141896](./assets/image-20230630065141896.png)"
      ]
    },
    {
      "cell_type": "markdown",
      "metadata": {
        "id": "jKfls1kBbRKG"
      },
      "source": [
        "## Virtual Environment\n",
        "\n",
        "### What is a Virtual Environment\n",
        "\n",
        "\n",
        "\n",
        "- Each Python project requires different dependency\n",
        "  - The package someone has created\n",
        "  - Different version\n",
        "- Different configuration\n",
        "\n",
        "- `pip` is to set up the components for environments"
      ]
    },
    {
      "cell_type": "markdown",
      "metadata": {
        "id": "EL5BtbMhbRKG"
      },
      "source": [
        "- Without Environment\n",
        "  - Dependency must be loaded every time we used\n",
        "  - Hard to move to other computer\n",
        "- With Environment\n",
        "  - components do not need to install every time\n",
        "    - just only the first time\n",
        "  - `pip freeze` to see what we have in our environments\n",
        "  - using `requirement.txt` for migration"
      ]
    },
    {
      "cell_type": "markdown",
      "metadata": {
        "id": "PFaPqNzWbRKG"
      },
      "source": [
        "### How to Create a Virtual Environment\n",
        "\n",
        "- using ide\n",
        "\n",
        "  - create the `venv` folder\n",
        "\n",
        "    ![image-20230630071634886](./assets/image-20230630071634886.png)\n",
        "\n",
        "  - other tools can be used as well\n",
        "\n",
        "  - System interpreter means all projects in your computer without a virtual environment will use the same dependencies\n"
      ]
    },
    {
      "cell_type": "markdown",
      "metadata": {
        "id": "uIuk_c9MbRKG"
      },
      "source": [
        "Using command line\n",
        "\n",
        "- `python -m venv /path/to/new/virtual/environment` to create a virtual environment\n",
        "\n",
        "- one project can have many environments\n",
        "\n",
        "  - for more details, [click!!!](https://docs.python.org/3/library/venv.html)"
      ]
    },
    {
      "cell_type": "markdown",
      "metadata": {
        "id": "lAo4wNDhbRKG"
      },
      "source": [
        "## IPython\n",
        "\n",
        "- Interactive Python\n",
        "\n",
        "- Python works as the interpreter\n",
        "  - read the code line by line\n",
        "  - execute line by line\n",
        "\n",
        "- try small code\n",
        "  - Good to try"
      ]
    },
    {
      "cell_type": "markdown",
      "metadata": {
        "id": "C-wNnJeqbRKH"
      },
      "source": [
        "### Task\n",
        "\n",
        "Try this code in the Python console\n",
        "\n",
        "```python\n",
        "i = 10\n",
        "name = 'this is a book'\n",
        "y = i + 12\n",
        "print(i,name,y)\n",
        "```\n",
        "\n",
        "Push enter after every line of code\n",
        "\n",
        "**Note** that using the shift enter to enter more than one line of code at the same time"
      ]
    },
    {
      "cell_type": "markdown",
      "metadata": {
        "id": "hp4N5rtnbRKH"
      },
      "source": [
        "## Jupyter Notebook\n",
        "\n",
        "- The tools for visualize the source code  and explain it\n",
        "\n",
        "- help for study, and also documents\n",
        "\n",
        "- Required Jupyter Server to be run in the system\n",
        "\n",
        "- Provide the web server to host the file, and also provide the virtual machine to  run the code"
      ]
    },
    {
      "cell_type": "markdown",
      "metadata": {
        "id": "76YSHyK_bRKH"
      },
      "source": [
        "### Task\n",
        "\n",
        "Type this in the different cell\n",
        "\n",
        "```python\n",
        "i = 10\n",
        "name = 'this is a book'\n",
        "```\n"
      ]
    },
    {
      "cell_type": "code",
      "execution_count": 2,
      "metadata": {
        "id": "2ix8bRvbbRKH"
      },
      "outputs": [],
      "source": [
        " i = 10\n",
        "name = 'this is a book'"
      ]
    },
    {
      "cell_type": "markdown",
      "metadata": {
        "id": "99BKY2nibRKH"
      },
      "source": [
        "```python\n",
        "y = i + 12\n",
        "print(i,name,y)\n",
        "```\n"
      ]
    },
    {
      "cell_type": "code",
      "execution_count": 3,
      "metadata": {
        "colab": {
          "base_uri": "https://localhost:8080/"
        },
        "id": "ZyvTLEG0bRKH",
        "outputId": "a3200afd-b102-4a81-b578-ce48e01ed8a0"
      },
      "outputs": [
        {
          "output_type": "stream",
          "name": "stdout",
          "text": [
            "10 this is a book 22\n"
          ]
        }
      ],
      "source": [
        "y = i + 12\n",
        "print(i,name,y)"
      ]
    },
    {
      "cell_type": "markdown",
      "metadata": {
        "id": "JkzzCjEGbRKI"
      },
      "source": [
        "### markdown\n",
        "\n",
        "The markdown is the language we can use to write the explanation\n",
        "\n",
        "It is similar to the html (with different syntax)\n",
        "\n",
        "you may try to type this in the box."
      ]
    },
    {
      "cell_type": "markdown",
      "metadata": {
        "id": "DJ9UM2CEbRKI"
      },
      "source": [
        "### Task\n",
        "\n",
        "> # This is a book\n",
        ">\n",
        "> ## Do not know what it is\n",
        ">\n",
        "> but we can trust any  one here or not?\n",
        "\n",
        "For more detail on you can check [here](https://www.markdownguide.org/)"
      ]
    },
    {
      "cell_type": "markdown",
      "metadata": {
        "id": "7D2ppJ_tbRKI"
      },
      "source": []
    },
    {
      "cell_type": "markdown",
      "metadata": {
        "id": "W1IzLbg-bRKI"
      },
      "source": [
        "## Python\n",
        "\n",
        "![image-20230630062803274](./assets/image-20230630062803274.png)"
      ]
    },
    {
      "cell_type": "markdown",
      "metadata": {
        "id": "S2BGVVhObRKI"
      },
      "source": [
        "## Writing the code\n",
        "\n",
        "Now we try to write the code in Jupyter\n",
        "\n",
        "What happen when we type the first cell as\n",
        "\n",
        "```python\n",
        "'hello world'\n",
        "```\n",
        "\n"
      ]
    },
    {
      "cell_type": "code",
      "execution_count": 4,
      "metadata": {
        "colab": {
          "base_uri": "https://localhost:8080/",
          "height": 35
        },
        "id": "EqGva6YlbRKI",
        "outputId": "6cd4fa01-8709-4350-cafe-0e14dd5ea8e7"
      },
      "outputs": [
        {
          "output_type": "execute_result",
          "data": {
            "text/plain": [
              "'hello world'"
            ],
            "application/vnd.google.colaboratory.intrinsic+json": {
              "type": "string"
            }
          },
          "metadata": {},
          "execution_count": 4
        }
      ],
      "source": [
        "'hello world'"
      ]
    },
    {
      "cell_type": "markdown",
      "metadata": {
        "id": "1jotDfq9bRKI"
      },
      "source": [
        "### Basic Calculation\n",
        "\n",
        "The basic usage of the computer programming is to calculate the value.\n",
        "\n",
        "Try to see what happen when you type\n",
        "\n",
        "```python\n",
        " 1 + 4 * 3\n",
        "```\n",
        "\n",
        "\n",
        "\n"
      ]
    },
    {
      "cell_type": "code",
      "execution_count": 5,
      "metadata": {
        "colab": {
          "base_uri": "https://localhost:8080/"
        },
        "id": "eCd3TXnAbRKI",
        "outputId": "843728d9-b710-48ad-8f13-2ebd582a7064"
      },
      "outputs": [
        {
          "output_type": "execute_result",
          "data": {
            "text/plain": [
              "13"
            ]
          },
          "metadata": {},
          "execution_count": 5
        }
      ],
      "source": [
        "1 + 4 * 3"
      ]
    },
    {
      "cell_type": "markdown",
      "metadata": {
        "id": "JdP70OgDbRKI"
      },
      "source": [
        "```python\n",
        "42\n",
        "```"
      ]
    },
    {
      "cell_type": "code",
      "execution_count": 6,
      "metadata": {
        "colab": {
          "base_uri": "https://localhost:8080/"
        },
        "id": "NONdzEQObRKI",
        "outputId": "274427cd-5d27-4978-8d7a-8201df2a1e3d"
      },
      "outputs": [
        {
          "output_type": "execute_result",
          "data": {
            "text/plain": [
              "42"
            ]
          },
          "metadata": {},
          "execution_count": 6
        }
      ],
      "source": [
        "42"
      ]
    },
    {
      "cell_type": "markdown",
      "metadata": {
        "id": "ctYunBVobRKI"
      },
      "source": [
        "#### The Arithmetic operator\n",
        "\n",
        "```python\n",
        "+ - * /\t\taddition, subtraction/negation, multiplication, division\n",
        "% \t\t\tmodulus, a.k.a. remainder\n",
        "**\t \t\texponentiation\n",
        "```\n",
        "Try\n",
        "\n",
        "```python\n",
        "5 % 2\n",
        "```\n"
      ]
    },
    {
      "cell_type": "code",
      "execution_count": 7,
      "metadata": {
        "colab": {
          "base_uri": "https://localhost:8080/"
        },
        "id": "e-mkMb-QbRKI",
        "outputId": "ff0da75d-87f7-45bb-82cb-5f5578e1293a"
      },
      "outputs": [
        {
          "output_type": "execute_result",
          "data": {
            "text/plain": [
              "1"
            ]
          },
          "metadata": {},
          "execution_count": 7
        }
      ],
      "source": [
        "5 % 2"
      ]
    },
    {
      "cell_type": "markdown",
      "metadata": {
        "id": "lCD63Mp3bRKI"
      },
      "source": [
        "```python\n",
        "2**4\n",
        "```\n"
      ]
    },
    {
      "cell_type": "markdown",
      "metadata": {
        "id": "CqNyWjiVbRKI"
      },
      "source": [
        "#### Order of computation\n",
        "\n",
        "What is the result of\n",
        "\n",
        "```python\n",
        " 1 + 3 * 4 = ?\n",
        "```\n",
        "\n",
        "\n"
      ]
    },
    {
      "cell_type": "code",
      "source": [
        "1 + 3 * 4"
      ],
      "metadata": {
        "colab": {
          "base_uri": "https://localhost:8080/"
        },
        "id": "cYsRaT5XbvwM",
        "outputId": "bfac8fa9-5319-4104-ece6-2cb4e83248c9"
      },
      "execution_count": 9,
      "outputs": [
        {
          "output_type": "execute_result",
          "data": {
            "text/plain": [
              "13"
            ]
          },
          "metadata": {},
          "execution_count": 9
        }
      ]
    },
    {
      "cell_type": "markdown",
      "metadata": {
        "id": "vs___yXLbRKJ"
      },
      "source": [
        "and\n",
        "\n",
        "```python\n",
        " (1 + 3) * 4 = ?\n",
        "```\n"
      ]
    },
    {
      "cell_type": "code",
      "source": [
        " (1 + 3) * 4"
      ],
      "metadata": {
        "colab": {
          "base_uri": "https://localhost:8080/"
        },
        "id": "U-S6ShEwbyHP",
        "outputId": "87c4745f-f77c-48c0-c722-10d2e7d1e233"
      },
      "execution_count": 10,
      "outputs": [
        {
          "output_type": "execute_result",
          "data": {
            "text/plain": [
              "16"
            ]
          },
          "metadata": {},
          "execution_count": 10
        }
      ]
    },
    {
      "cell_type": "markdown",
      "metadata": {
        "id": "iAYas0hQbRKJ"
      },
      "source": [
        "\n",
        "**Why?**\n",
        "Try to write the code"
      ]
    },
    {
      "cell_type": "code",
      "execution_count": 11,
      "metadata": {
        "colab": {
          "base_uri": "https://localhost:8080/"
        },
        "id": "lSvGDs7YbRKJ",
        "outputId": "dcc37351-a734-4cd7-ac43-1bc8f52e97ad"
      },
      "outputs": [
        {
          "output_type": "execute_result",
          "data": {
            "text/plain": [
              "(16, 13)"
            ]
          },
          "metadata": {},
          "execution_count": 11
        }
      ],
      "source": [
        " (1 + 3) * 4 , 1 + 3 * 4"
      ]
    },
    {
      "cell_type": "markdown",
      "metadata": {
        "id": "NVs_1EoebRKJ"
      },
      "source": [
        "##### The precedence order\n",
        "\n",
        "| Operators                                                    | Meaning                                           |\n",
        "| :----------------------------------------------------------- | :------------------------------------------------ |\n",
        "| `()`                                                         | Parentheses                                       |\n",
        "| `**`                                                         | Exponent                                          |\n",
        "| `+x`, `-x`, `~x`                                             | Unary plus, Unary minus, Bitwise NOT              |\n",
        "| `*`, `/`, `//`, `%`                                          | Multiplication, Division, Floor division, Modulus |\n",
        "| `+`, `-`                                                     | Addition, Subtraction                             |\n",
        "| `<<`, `>>`                                                   | Bitwise shift operators                           |\n",
        "| `&`                                                          | Bitwise AND                                       |\n",
        "| `^`                                                          | Bitwise XOR                                       |\n",
        "| `|`                                                          | Bitwise OR                                        |\n",
        "| `==`, `!=`, `>`, `>=`, `<`, `<=`, `is`, `is not`, `in`, `not in` | Comparisons, Identity, Membership operators       |\n",
        "| `not`                                                        | Logical NOT                                       |\n",
        "| `and`                                                        | Logical AND                                       |\n",
        "| `or`                                                         | Logical OR                                        |"
      ]
    },
    {
      "cell_type": "markdown",
      "metadata": {
        "id": "9iQB6bW5bRKJ"
      },
      "source": [
        "#### Task\n",
        "\n",
        "Try to calculate this by hand as group first.\n",
        "\n",
        "`5 + 6 * 7 / 8`"
      ]
    },
    {
      "cell_type": "code",
      "execution_count": 12,
      "metadata": {
        "colab": {
          "base_uri": "https://localhost:8080/"
        },
        "id": "rCESLlphbRKJ",
        "outputId": "015d8250-94a4-4b66-c872-7e4092a9473f"
      },
      "outputs": [
        {
          "output_type": "execute_result",
          "data": {
            "text/plain": [
              "10.25"
            ]
          },
          "metadata": {},
          "execution_count": 12
        }
      ],
      "source": [
        "5 + 6 * 7 / 8"
      ]
    },
    {
      "cell_type": "markdown",
      "metadata": {
        "id": "ZXEwYUqVbRKJ"
      },
      "source": [
        "```python\n",
        "7/3*1.2+3/2\n",
        "```\n"
      ]
    },
    {
      "cell_type": "code",
      "execution_count": 13,
      "metadata": {
        "colab": {
          "base_uri": "https://localhost:8080/"
        },
        "id": "5pc7YunvbRKJ",
        "outputId": "55bec183-7567-4565-b6dd-f3f77cc83237"
      },
      "outputs": [
        {
          "output_type": "execute_result",
          "data": {
            "text/plain": [
              "4.300000000000001"
            ]
          },
          "metadata": {},
          "execution_count": 13
        }
      ],
      "source": [
        "7/3*1.2+3/2"
      ]
    },
    {
      "cell_type": "markdown",
      "metadata": {
        "id": "FYbnh6NubRKJ"
      },
      "source": [
        "### Real Number and Integer Number\n",
        "\n",
        "* Python can also manipulate real numbers.\n",
        "\n",
        "  * Examples: 6.022\t-15.9997\t42.0\t2.143e17\n",
        "\n"
      ]
    },
    {
      "cell_type": "markdown",
      "metadata": {
        "id": "PTurxshTbRKJ"
      },
      "source": [
        "* The operators + - * / % **  ( ) all work for real numbers.\n",
        "  * The / produces an exact answer: `15.0 / 2.0` is 7.5\n",
        "  * The same rules of precedence also apply to real numbers:\n",
        "    Evaluate  ( )  before  * / %  before  + -\n",
        "\n"
      ]
    },
    {
      "cell_type": "markdown",
      "metadata": {
        "id": "8yibAwHRbRKJ"
      },
      "source": [
        "* When integers and reals are mixed, the result is a real number.\n",
        "  * Example:  `1 / 2.0`  is  0.5\n",
        "  * The conversion occurs on a per-operator basis.\n",
        "\n",
        "\n"
      ]
    },
    {
      "cell_type": "markdown",
      "metadata": {
        "id": "kJcP5jTEbRKN"
      },
      "source": [
        " **Note that Python 2 and Python 3 are not the same!**"
      ]
    },
    {
      "cell_type": "markdown",
      "metadata": {
        "id": "yAZ7vR4abRKN"
      },
      "source": [
        "#### Task\n",
        "\n",
        "Now try\n",
        "\n",
        "```python\n",
        "1/2.0\n",
        "```\n",
        "\n",
        "\n",
        "\n"
      ]
    },
    {
      "cell_type": "code",
      "execution_count": 14,
      "metadata": {
        "colab": {
          "base_uri": "https://localhost:8080/"
        },
        "id": "BYIW5w76bRKN",
        "outputId": "7e9df1fd-3566-4ce9-8914-9175f70b5339"
      },
      "outputs": [
        {
          "output_type": "execute_result",
          "data": {
            "text/plain": [
              "0.5"
            ]
          },
          "metadata": {},
          "execution_count": 14
        }
      ],
      "source": [
        "1/2.0"
      ]
    },
    {
      "cell_type": "markdown",
      "metadata": {
        "id": "k2K53VpobRKN"
      },
      "source": [
        "```python\n",
        "1/2\n",
        "```"
      ]
    },
    {
      "cell_type": "code",
      "execution_count": 15,
      "metadata": {
        "colab": {
          "base_uri": "https://localhost:8080/"
        },
        "id": "_tVOyoDwbRKN",
        "outputId": "d325e07f-0452-4c00-f5a0-221dd88040a8"
      },
      "outputs": [
        {
          "output_type": "execute_result",
          "data": {
            "text/plain": [
              "0.5"
            ]
          },
          "metadata": {},
          "execution_count": 15
        }
      ],
      "source": [
        "1/2"
      ]
    },
    {
      "cell_type": "markdown",
      "metadata": {
        "id": "aZGSovs9bRKN"
      },
      "source": [
        "### Variable\n",
        "\n",
        "A name of a piece of memory that can store a value.\n",
        "\n",
        "* Compute and expression result\n",
        "* Store that result in a variable\n",
        "* Use the value later in the program"
      ]
    },
    {
      "cell_type": "markdown",
      "metadata": {
        "id": "K33CgPEQbRKO"
      },
      "source": [
        "#### Assignment Statement\n",
        "\n",
        "```python\n",
        "name = value\n",
        "```\n",
        "\n",
        "![image-20230630225106493](./assets/image-20230630225106493.png)"
      ]
    },
    {
      "cell_type": "markdown",
      "metadata": {
        "id": "VbzFHIe6bRKO"
      },
      "source": [
        "Try in your computer\n",
        "\n",
        "```python\n",
        "x=5\n",
        "gpa = 3.14\n",
        "```"
      ]
    },
    {
      "cell_type": "code",
      "execution_count": 16,
      "metadata": {
        "id": "1VIPGUFCbRKO"
      },
      "outputs": [],
      "source": [
        "x=5\n",
        "gpa = 3.14"
      ]
    },
    {
      "cell_type": "markdown",
      "metadata": {
        "id": "tvRVIf5pbRKO"
      },
      "source": [
        "```python\n",
        "x\n",
        "```"
      ]
    },
    {
      "cell_type": "code",
      "execution_count": 20,
      "metadata": {
        "colab": {
          "base_uri": "https://localhost:8080/"
        },
        "id": "S0qSGC5BbRKO",
        "outputId": "ee05fb5e-0948-4c1b-fc49-3f371f094716"
      },
      "outputs": [
        {
          "output_type": "execute_result",
          "data": {
            "text/plain": [
              "5"
            ]
          },
          "metadata": {},
          "execution_count": 20
        }
      ],
      "source": [
        "x"
      ]
    },
    {
      "cell_type": "markdown",
      "metadata": {
        "id": "grMCoLLTbRKO"
      },
      "source": [
        "```python\n",
        "x = 9\n",
        "```"
      ]
    },
    {
      "cell_type": "code",
      "execution_count": 21,
      "metadata": {
        "id": "Q7ci9xzFbRKO"
      },
      "outputs": [],
      "source": [
        "x = 9"
      ]
    },
    {
      "cell_type": "markdown",
      "metadata": {
        "id": "EWg9LEYVbRKO"
      },
      "source": [
        "y"
      ]
    },
    {
      "cell_type": "code",
      "execution_count": 22,
      "metadata": {
        "colab": {
          "base_uri": "https://localhost:8080/"
        },
        "id": "I79zP_FUbRKO",
        "outputId": "ab9e4b7f-783c-4f65-f876-702e070ab33f"
      },
      "outputs": [
        {
          "output_type": "execute_result",
          "data": {
            "text/plain": [
              "22"
            ]
          },
          "metadata": {},
          "execution_count": 22
        }
      ],
      "source": [
        "y"
      ]
    },
    {
      "cell_type": "markdown",
      "metadata": {
        "id": "VB38nnWZbRKO"
      },
      "source": [
        "A variable that has been given a value can be used in expressions.\n",
        "\n",
        "```python\n",
        "  x + 4 = ?\n",
        "```\n"
      ]
    },
    {
      "cell_type": "code",
      "execution_count": 23,
      "metadata": {
        "colab": {
          "base_uri": "https://localhost:8080/"
        },
        "id": "Zc04Q4b-bRKO",
        "outputId": "3b6be29a-77fc-4713-d024-8d64e1c10033"
      },
      "outputs": [
        {
          "output_type": "execute_result",
          "data": {
            "text/plain": [
              "13"
            ]
          },
          "metadata": {},
          "execution_count": 23
        }
      ],
      "source": [
        " x + 4"
      ]
    },
    {
      "cell_type": "markdown",
      "metadata": {
        "id": "aVJI41tMbRKO"
      },
      "source": [
        "### Task 1\n",
        "\n",
        "Create variable name\n",
        "\n",
        "- assign any value to it\n",
        "- run the statement"
      ]
    },
    {
      "cell_type": "code",
      "execution_count": 25,
      "metadata": {
        "id": "JquFHe7abRKO"
      },
      "outputs": [],
      "source": [
        "a = 5\n",
        "b = 2"
      ]
    },
    {
      "cell_type": "markdown",
      "metadata": {
        "id": "2a4Jzou8bRKP"
      },
      "source": [
        "### Task 2\n",
        "\n",
        "Write only a variable name you have declared and run it"
      ]
    },
    {
      "cell_type": "code",
      "execution_count": 27,
      "metadata": {
        "id": "E23sxA3ubRKP"
      },
      "outputs": [],
      "source": [
        "X = 10"
      ]
    },
    {
      "cell_type": "markdown",
      "metadata": {
        "id": "lld1aaF1bRKP"
      },
      "source": [
        "### Task 3\n",
        "\n",
        "Given a linear equation\n",
        "\n",
        "```\n",
        "Y = aX + b\n",
        "```\n",
        "\n",
        "when a,b,X are variables. which you can define in one piece of code\n",
        "\n",
        "**Find Y**"
      ]
    },
    {
      "cell_type": "code",
      "execution_count": 29,
      "metadata": {
        "id": "xvsMvmCObRKP"
      },
      "outputs": [],
      "source": [
        "Y = a*X + b"
      ]
    },
    {
      "cell_type": "markdown",
      "metadata": {
        "id": "Xqq_ncEObRKP"
      },
      "source": [
        "### print\n",
        "\n",
        "`print`: Produce a text output on the console\n",
        "\n",
        "Syntax\n",
        "\n",
        "```python\n",
        "   print(\"Message\")\n",
        "   print(Expression)\n",
        "```\n",
        "\n",
        "Prints the given text message or expression value on the console, and moves the cursor down to the next line.\n",
        "\n",
        "```python\n",
        "   print (Item1, Item2, ..., ItemN)\n",
        "```\n",
        "\n",
        "Prints several messages and/or expressions on the same line."
      ]
    },
    {
      "cell_type": "code",
      "execution_count": 30,
      "metadata": {
        "colab": {
          "base_uri": "https://localhost:8080/"
        },
        "id": "ss0hbOUAbRKP",
        "outputId": "eb41d0cf-9ecf-4196-b62a-8a7abec7e602"
      },
      "outputs": [
        {
          "output_type": "stream",
          "name": "stdout",
          "text": [
            "data science\n"
          ]
        }
      ],
      "source": [
        "print(\"data science\")"
      ]
    },
    {
      "cell_type": "markdown",
      "metadata": {
        "id": "ENsS66utbRKP"
      },
      "source": [
        "### Task\n",
        "\n",
        "Try the code\n",
        "\n",
        "```python\n",
        "print('Hello, world!!')\n",
        "```"
      ]
    },
    {
      "cell_type": "code",
      "execution_count": 31,
      "metadata": {
        "colab": {
          "base_uri": "https://localhost:8080/"
        },
        "id": "IfmbLj70bRKP",
        "outputId": "88e47312-9072-4fed-f657-c71a197b90f8"
      },
      "outputs": [
        {
          "output_type": "stream",
          "name": "stdout",
          "text": [
            "Hello, world!!\n"
          ]
        }
      ],
      "source": [
        "print('Hello, world!!')"
      ]
    },
    {
      "cell_type": "markdown",
      "metadata": {
        "id": "yhC8Fws9bRKP"
      },
      "source": [
        "```python\n",
        "print('Hello', 'world!!')\n",
        "```"
      ]
    },
    {
      "cell_type": "code",
      "execution_count": 32,
      "metadata": {
        "colab": {
          "base_uri": "https://localhost:8080/"
        },
        "id": "AviIReGkbRKP",
        "outputId": "5fa3f2fd-272a-4bd2-ec7f-39ecbdf68283"
      },
      "outputs": [
        {
          "output_type": "stream",
          "name": "stdout",
          "text": [
            "Hello world!!\n"
          ]
        }
      ],
      "source": [
        "print('Hello', 'world!!')"
      ]
    },
    {
      "cell_type": "markdown",
      "metadata": {
        "id": "oduoEapWbRKP"
      },
      "source": [
        "```python\n",
        "age = 40\n",
        "print('You have', 60-age, 'years until retirement')\n",
        "```"
      ]
    },
    {
      "cell_type": "code",
      "execution_count": 33,
      "metadata": {
        "colab": {
          "base_uri": "https://localhost:8080/"
        },
        "id": "5czQJoWLbRKP",
        "outputId": "6a77c53b-c7aa-4911-fd0e-c2c90e22b4cc"
      },
      "outputs": [
        {
          "output_type": "stream",
          "name": "stdout",
          "text": [
            "You have 37 years until retirement\n"
          ]
        }
      ],
      "source": [
        "age = 23\n",
        "print('You have', 60-age, 'years until retirement')"
      ]
    },
    {
      "cell_type": "markdown",
      "metadata": {
        "id": "POTbqDsvbRKP"
      },
      "source": [
        "### Task 2\n",
        "\n",
        "Write the statements to show the number of all parliament member (including the Senate, and House of Representative\n",
        "\n",
        "- Keep in mind that the number of Senate, and House of Representative can be changed all the time"
      ]
    },
    {
      "cell_type": "markdown",
      "metadata": {
        "id": "f5Ux0zMDbRKQ"
      },
      "source": [
        "## Program input\n",
        "\n",
        "`input` Read data from user input\n",
        "\n",
        "*read* from console\n",
        "\n",
        "You can assign (store) the result of input into a variable.\n",
        "\n"
      ]
    },
    {
      "cell_type": "markdown",
      "metadata": {
        "id": "hrv1eb4ubRKQ"
      },
      "source": [
        "Try\n",
        "\n",
        "```python\n",
        "age = int(input('How old are you?'))\n",
        "print('Your age is', age)\n",
        "print ('You have', 60-age, 'years until retirement')\n",
        "```\n"
      ]
    },
    {
      "cell_type": "code",
      "execution_count": 34,
      "metadata": {
        "colab": {
          "base_uri": "https://localhost:8080/"
        },
        "id": "DXLxK8WNbRKQ",
        "outputId": "7d89dc1d-ce6f-45b4-af0a-06d8d5800b96"
      },
      "outputs": [
        {
          "output_type": "stream",
          "name": "stdout",
          "text": [
            "How old are you?23\n",
            "Your age is 23\n",
            "You have 37 years until retirement\n"
          ]
        }
      ],
      "source": [
        "age = int(input('How old are you?'))\n",
        "print('Your age is', age)\n",
        "print ('You have', 60-age, 'years until retirement')"
      ]
    },
    {
      "cell_type": "code",
      "execution_count": null,
      "metadata": {
        "id": "pYpvMTyabRKQ"
      },
      "outputs": [],
      "source": [
        "### Task\n",
        "\n",
        "Write the program which ask for `name` and `age` and then show the year of retirement\n",
        "\n",
        "For example:\n",
        "\tSomepong, you will retired in 2052"
      ]
    },
    {
      "cell_type": "code",
      "execution_count": 38,
      "metadata": {
        "colab": {
          "base_uri": "https://localhost:8080/"
        },
        "id": "V3_h8FI9bRKQ",
        "outputId": "bf8ba59b-faee-42c8-d1cd-92064710e2ed"
      },
      "outputs": [
        {
          "output_type": "stream",
          "name": "stdout",
          "text": [
            "Fill your name : 12\n",
            "How old are you :23\n",
            "12 you will retired in 2060\n"
          ]
        }
      ],
      "source": [
        "name = input(\"Fill your name : \")\n",
        "age= int(input(\"How old are you :\"))\n",
        "print(name,\"you will retired in\",(60-age+2023))"
      ]
    },
    {
      "cell_type": "code",
      "execution_count": null,
      "metadata": {
        "id": "CzCEsAm5bRKQ"
      },
      "outputs": [],
      "source": []
    }
  ],
  "metadata": {
    "celltoolbar": "Slideshow",
    "kernelspec": {
      "display_name": "Python 3 (ipykernel)",
      "language": "python",
      "name": "python3"
    },
    "language_info": {
      "codemirror_mode": {
        "name": "ipython",
        "version": 3
      },
      "file_extension": ".py",
      "mimetype": "text/x-python",
      "name": "python",
      "nbconvert_exporter": "python",
      "pygments_lexer": "ipython3",
      "version": "3.11.1"
    },
    "colab": {
      "provenance": []
    }
  },
  "nbformat": 4,
  "nbformat_minor": 0
}