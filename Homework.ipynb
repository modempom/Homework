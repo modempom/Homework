{
 "cells": [
  {
   "cell_type": "markdown",
   "source": [
    "## Task1\n",
    "In a program, Students have to input their information to check what type of him.\n",
    "\n",
    "The system will ask for student type which can be ‘f’ for full time student and ‘p’ for part-time student.\n",
    "\n",
    "If the gpa is greater than 2.00 and his age is more than 23 then the application will return “you are adult”\n",
    "\n",
    "If the gpa is less than 2 , the application will check that the student is a part time student or the age is more than 23, if it is, the application will return “you need more time to prepare yourselves” otherwise it will return “Good luck in your study”)"
   ],
   "metadata": {
    "collapsed": false
   }
  },
  {
   "cell_type": "code",
   "execution_count": 6,
   "outputs": [
    {
     "data": {
      "text/plain": "['You are an adult.',\n 'You need more time to prepare yourselves.',\n 'You need more time to prepare yourselves.',\n 'Good luck in your study.']"
     },
     "execution_count": 6,
     "metadata": {},
     "output_type": "execute_result"
    }
   ],
   "source": [
    "def student_evaluation(student_type: str, gpa: float, age: int) -> str:\n",
    "    if gpa > 2.00 and age > 23:\n",
    "        return \"You are an adult.\"\n",
    "    elif gpa < 2 and (student_type == 'p' or age > 23):\n",
    "        return \"You need more time to prepare yourselves.\"\n",
    "    else:\n",
    "        return \"Good luck in your study.\"\n",
    "\n",
    "# Testing the function\n",
    "test_cases = [\n",
    "    ('f', 2.5, 24),  # Full-time, GPA > 2, age > 23\n",
    "    ('f', 1.5, 24),  # Full-time, GPA < 2, age > 23\n",
    "    ('p', 1.5, 22),  # Part-time, GPA < 2, age < 23\n",
    "    ('f', 1.5, 22)   # Full-time, GPA < 2, age < 23\n",
    "]\n",
    "\n",
    "results = [student_evaluation(*case) for case in test_cases]\n",
    "results\n",
    "\n"
   ],
   "metadata": {
    "collapsed": false,
    "ExecuteTime": {
     "end_time": "2023-10-30T18:58:53.723219300Z",
     "start_time": "2023-10-30T18:58:53.706182Z"
    }
   }
  },
  {
   "cell_type": "markdown",
   "source": [
    "## Task2\n",
    "\n",
    "Write a program that performs a plus-one cipher.\n",
    "\n",
    "Example:\n",
    "\n",
    "> <span style=\"color: SkyBlue\">Please enter a string: </span><span style=\"color:Red\"><b>ABC</b></span>\n",
    ">\n",
    "> <span style=\"color:SkyBlue\">The plus one cipher is <b>BCD</b></span>\n",
    "\n",
    "**Hint**\n",
    "\n",
    "The string can be concatenated by \"+\" symbol\n",
    "\n",
    "```python\n",
    "output = 'x' + 'y'\n",
    "print(output)\n",
    "```\n",
    "\n",
    "\n"
   ],
   "metadata": {
    "collapsed": false
   }
  },
  {
   "cell_type": "code",
   "execution_count": 7,
   "outputs": [
    {
     "name": "stdout",
     "output_type": "stream",
     "text": [
      "Input:  HELLO\n",
      "Output: IFMMP\n"
     ]
    }
   ],
   "source": [
    "def plus_one_cipher(s: str) -> str:\n",
    "    result = []\n",
    "\n",
    "    for char in s:\n",
    "        # If character is uppercase letter\n",
    "        if 'A' <= char <= 'Z':\n",
    "            result.append(chr(((ord(char) - 65 + 1) % 26) + 65))\n",
    "        # If character is lowercase letter\n",
    "        elif 'a' <= char <= 'z':\n",
    "            result.append(chr(((ord(char) - 97 + 1) % 26) + 97))\n",
    "        # Else, just append character\n",
    "        else:\n",
    "            result.append(char)\n",
    "\n",
    "    return ''.join(result)\n",
    "\n",
    "# Test the function\n",
    "plaintext = \"HELLO\"\n",
    "encrypted = plus_one_cipher(plaintext)\n",
    "print(f\"Input:  {plaintext}\")\n",
    "print(f\"Output: {encrypted}\")\n"
   ],
   "metadata": {
    "collapsed": false,
    "ExecuteTime": {
     "end_time": "2023-10-30T19:00:17.906255700Z",
     "start_time": "2023-10-30T19:00:17.887906400Z"
    }
   }
  },
  {
   "cell_type": "markdown",
   "source": [],
   "metadata": {
    "collapsed": false
   }
  },
  {
   "cell_type": "code",
   "execution_count": 2,
   "outputs": [
    {
     "ename": "SyntaxError",
     "evalue": "invalid character '“' (U+201C) (2512408620.py, line 3)",
     "output_type": "error",
     "traceback": [
      "\u001B[1;36m  Cell \u001B[1;32mIn[2], line 3\u001B[1;36m\u001B[0m\n\u001B[1;33m    In a digital circuit, the number is only “0” or “1”. When we add, if we add without carry-on digit. It is the half adder, the half adder receives two digit value and returns the output (s as a sum bit), and c the carry-on (c as carry-on bit) from the adder. the block diagram of the half-adder as given\u001B[0m\n\u001B[1;37m                                             ^\u001B[0m\n\u001B[1;31mSyntaxError\u001B[0m\u001B[1;31m:\u001B[0m invalid character '“' (U+201C)\n"
     ]
    }
   ],
   "source": [
    "## Task 3\n",
    "\n",
    "In a digital circuit, the number is only “0” or “1”. When we add, if we add without carry-on digit. It is the half adder, the half adder receives two digit value and returns the output (s as a sum bit), and c the carry-on (c as carry-on bit) from the adder. the block diagram of the half-adder as given\n",
    "\n",
    "![download (7)](./assets/download(7).png)\n",
    "\n",
    "Making half adder circuit that can find the result of the summation of two digits using logic gates (AND, OR, NOT, NOR, NAND, XOR)\n",
    "\n",
    "**Hint**\n",
    "\n",
    "1. create the function which receives two digit value, and return the output of each logic gate AND, OR, and NOT\n",
    "2. NOR and NAND is the not Or, and Not And. So you can create the functions from AND, OR, NOT function\n",
    "3. using the methods to create a new half-adder functions The half adder is created using this circuit\n",
    "4. as there are two outputs, two functions are required, one for sum bit output, and the other for carry-on bit output\n",
    "\n",
    "![download (8)](./assets/download(8).png)\n",
    "\n"
   ],
   "metadata": {
    "collapsed": false,
    "ExecuteTime": {
     "end_time": "2023-10-30T18:58:24.318943500Z",
     "start_time": "2023-10-30T18:58:24.308398400Z"
    }
   }
  },
  {
   "cell_type": "markdown",
   "source": [
    "## Task 4\n",
    "\n",
    "from the half adder function, create the full adder. The full adder is to added to data, wit the carry in input. the block diagram is shown as given\n",
    "\n",
    "![download (9)](./assets/download(9).png)\n",
    "\n"
   ],
   "metadata": {
    "collapsed": false
   }
  },
  {
   "cell_type": "code",
   "execution_count": 8,
   "outputs": [
    {
     "name": "stdout",
     "output_type": "stream",
     "text": [
      "Input bits: A=1, B=0, Cin=1\n",
      "Output: Sum=0, Cout=1\n"
     ]
    }
   ],
   "source": [
    "def half_adder(A, B):\n",
    "    '''Function for half adder'''\n",
    "    sum = A ^ B  # XOR operation\n",
    "    carry = A & B  # AND operation\n",
    "    return sum, carry\n",
    "\n",
    "def full_adder(A, B, Cin):\n",
    "    '''Function for full adder'''\n",
    "    # First half adder\n",
    "    sum1, carry1 = half_adder(A, B)\n",
    "\n",
    "    # Second half adder\n",
    "    sum, carry2 = half_adder(sum1, Cin)\n",
    "\n",
    "    # OR gate to get final carry out\n",
    "    Cout = carry1 | carry2\n",
    "\n",
    "    return sum, Cout\n",
    "\n",
    "# Testing\n",
    "A, B, Cin = 1, 0, 1\n",
    "sum_result, carry_result = full_adder(A, B, Cin)\n",
    "print(f\"Input bits: A={A}, B={B}, Cin={Cin}\")\n",
    "print(f\"Output: Sum={sum_result}, Cout={carry_result}\")\n"
   ],
   "metadata": {
    "collapsed": false,
    "ExecuteTime": {
     "end_time": "2023-10-30T19:02:40.063151500Z",
     "start_time": "2023-10-30T19:02:40.038139700Z"
    }
   }
  },
  {
   "cell_type": "markdown",
   "source": [
    "## Task 5: Duplicate words in a sentence\n",
    "\n",
    "Write a program that accepts a sequence of whitespace-separated words as input and prints them after removing all duplicate words and sorting them alphabetically.\n",
    "\n",
    "Suppose the following input is supplied to the program:\n",
    "\n",
    "> Hello world, and practice make perfect, and hello world again.\n",
    "\n",
    "Then the output should be:\n",
    "\n",
    "> again and hello makes perfect practice world\n",
    "\n",
    "\n",
    "\n"
   ],
   "metadata": {
    "collapsed": false
   }
  },
  {
   "cell_type": "code",
   "execution_count": 10,
   "outputs": [
    {
     "name": "stdout",
     "output_type": "stream",
     "text": [
      "again and hello make perfect practice world\n"
     ]
    }
   ],
   "source": [
    "import string\n",
    "\n",
    "def remove_duplicates_and_sort(sentence):\n",
    "    # Remove punctuation from the sentence\n",
    "    sentence = sentence.translate(str.maketrans('', '', string.punctuation))\n",
    "\n",
    "    # Convert to lowercase and split the sentence into words\n",
    "    words = sentence.lower().split()\n",
    "\n",
    "    # Remove duplicates using a set and then sort them\n",
    "    sorted_unique_words = sorted(set(words))\n",
    "\n",
    "    return ' '.join(sorted_unique_words)\n",
    "\n",
    "# Input and Output\n",
    "sentence = \"Hello world, and practice make perfect, and hello world again.\"\n",
    "print(remove_duplicates_and_sort(sentence))\n"
   ],
   "metadata": {
    "collapsed": false,
    "ExecuteTime": {
     "end_time": "2023-10-30T19:03:38.358826800Z",
     "start_time": "2023-10-30T19:03:38.337753100Z"
    }
   }
  },
  {
   "cell_type": "markdown",
   "source": [
    "## Task 6: Find 4-digits-binary that is divisible by 5\n",
    "\n",
    "Write a program that accepts a sequence of comma-separated 4-digit binary numbers as its input and then check whether they are divisible by 5. The numbers divisible by 5 are to be printed in a comma-separated sequence.\n",
    "\n",
    "Example:\n",
    "\n",
    "> 0100,0011,1010,1001\n",
    "\n",
    "Then the output should be\n",
    "\n",
    "> 1010"
   ],
   "metadata": {
    "collapsed": false
   }
  },
  {
   "cell_type": "code",
   "execution_count": 11,
   "outputs": [
    {
     "name": "stdout",
     "output_type": "stream",
     "text": [
      "1010\n"
     ]
    }
   ],
   "source": [
    "def is_divisible_by_5(binary_str):\n",
    "    # Convert binary string to decimal\n",
    "    decimal_number = int(binary_str, 2)\n",
    "\n",
    "    # Check if the number is divisible by 5\n",
    "    return decimal_number % 5 == 0\n",
    "\n",
    "def filter_binary_numbers(binary_numbers_str):\n",
    "    # Split the input string by commas\n",
    "    binary_numbers = binary_numbers_str.split(',')\n",
    "\n",
    "    # Filter out numbers not divisible by 5\n",
    "    divisible_by_5 = filter(is_divisible_by_5, binary_numbers)\n",
    "\n",
    "    return ','.join(divisible_by_5)\n",
    "\n",
    "# Input and Output\n",
    "binary_sequence = \"0100,0011,1010,1001\"\n",
    "print(filter_binary_numbers(binary_sequence))\n"
   ],
   "metadata": {
    "collapsed": false,
    "ExecuteTime": {
     "end_time": "2023-10-30T19:04:17.472982500Z",
     "start_time": "2023-10-30T19:04:17.416971900Z"
    }
   }
  },
  {
   "cell_type": "markdown",
   "source": [
    "## Task 7: Number Value\n",
    "\n",
    "Write a program that computes the value of `a+aa+aaa+aaaa` with a given digit as the value of a\n",
    "\n",
    "Support the following input is supplied to the program, for example\n",
    "\n",
    "> input 9\n",
    "\n",
    "Then the output should be\n",
    "\n",
    "> 11106\n",
    "\n"
   ],
   "metadata": {
    "collapsed": false
   }
  },
  {
   "cell_type": "code",
   "execution_count": 12,
   "outputs": [
    {
     "name": "stdout",
     "output_type": "stream",
     "text": [
      "1000200030004000\n"
     ]
    }
   ],
   "source": [
    "def compute_sum(a_str):\n",
    "    # Convert string to integer\n",
    "    a = int(a_str)\n",
    "\n",
    "    # Create numbers aa, aaa, and aaaa using string multiplication\n",
    "    aa = int(a_str * 2)\n",
    "    aaa = int(a_str * 3)\n",
    "    aaaa = int(a_str * 4)\n",
    "\n",
    "    # Return the sum\n",
    "    return a + aa + aaa + aaaa\n",
    "\n",
    "# Input and Output\n",
    "a_value = input(\"Enter a digit: \")\n",
    "result = compute_sum(a_value)\n",
    "print(result)\n"
   ],
   "metadata": {
    "collapsed": false,
    "ExecuteTime": {
     "end_time": "2023-10-30T19:04:58.449354500Z",
     "start_time": "2023-10-30T19:04:55.089056100Z"
    }
   }
  },
  {
   "cell_type": "markdown",
   "source": [
    "## Task 8: Palindrome\n",
    "\n",
    "Write a program to generate the shortest palindrome word (e.g. DAD, AVOVA) in a given word.\n",
    "\n",
    "Example\n",
    "\n",
    "Input: ABCD\n",
    "\n",
    "Output: ABCDCBA\n",
    "\n",
    "Input: CAC\n",
    "\n",
    "Output: CAC\n",
    "\n",
    "Input: HELLO\n",
    "\n",
    "Output: HELLOLLEH\n",
    "\n",
    "Input: ABCDEDC\n",
    "\n",
    "Output: ABCDEDCBA"
   ],
   "metadata": {
    "collapsed": false
   }
  },
  {
   "cell_type": "code",
   "execution_count": 13,
   "outputs": [
    {
     "name": "stdout",
     "output_type": "stream",
     "text": [
      "Input: ABCD\n",
      "Output: DCBABCD\n",
      "\n",
      "Input: CAC\n",
      "Output: CAC\n",
      "\n",
      "Input: HELLO\n",
      "Output: OLLEHELLO\n",
      "\n",
      "Input: ABCDEDC\n",
      "Output: CDEDCBABCDEDC\n",
      "\n"
     ]
    }
   ],
   "source": [
    "def shortest_palindrome(word):\n",
    "    # If word is already a palindrome, return it\n",
    "    if word == word[::-1]:\n",
    "        return word\n",
    "\n",
    "    # For every possible suffix of the word\n",
    "    for i in range(len(word), 0, -1):\n",
    "        # If the suffix is a prefix\n",
    "        if word[:i] == word[:i][::-1]:\n",
    "            # Add the non-matching part to the beginning\n",
    "            return word[i:][::-1] + word\n",
    "\n",
    "    return word[::-1] + word\n",
    "\n",
    "# Test cases\n",
    "test_words = [\"ABCD\", \"CAC\", \"HELLO\", \"ABCDEDC\"]\n",
    "for word in test_words:\n",
    "    print(f\"Input: {word}\\nOutput: {shortest_palindrome(word)}\\n\")\n"
   ],
   "metadata": {
    "collapsed": false,
    "ExecuteTime": {
     "end_time": "2023-10-30T19:05:39.394606700Z",
     "start_time": "2023-10-30T19:05:39.380695600Z"
    }
   }
  }
 ],
 "metadata": {
  "kernelspec": {
   "display_name": "Python 3",
   "language": "python",
   "name": "python3"
  },
  "language_info": {
   "codemirror_mode": {
    "name": "ipython",
    "version": 2
   },
   "file_extension": ".py",
   "mimetype": "text/x-python",
   "name": "python",
   "nbconvert_exporter": "python",
   "pygments_lexer": "ipython2",
   "version": "2.7.6"
  }
 },
 "nbformat": 4,
 "nbformat_minor": 0
}
